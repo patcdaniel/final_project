{
 "cells": [
  {
   "cell_type": "code",
   "execution_count": 1,
   "metadata": {
    "collapsed": true
   },
   "outputs": [],
   "source": [
    "% matplotlib inline"
   ]
  },
  {
   "cell_type": "markdown",
   "metadata": {},
   "source": [
    "#### Buoy Data Analysis\n",
    "Analysis of data from NBDC bouy <br>\n",
    "http://dods.ndbc.noaa.gov/thredds/dodsC/data/stdmet/46236/46236h2007.nc <br>\n",
    "https://netcdf4-python.googlecode.com/svn/trunk/docs/netCDF4.Dataset-class.html\n"
   ]
  },
  {
   "cell_type": "code",
   "execution_count": 1,
   "metadata": {
    "collapsed": false
   },
   "outputs": [],
   "source": [
    "import netCDF4 as nc\n",
    "import numpy as np\n",
    "import matplotlib.pyplot as plt\n",
    "import pandas as pd\n",
    "import datetime as dt\n",
    "import matplotlib.dates as mdates"
   ]
  },
  {
   "cell_type": "code",
   "execution_count": 2,
   "metadata": {
    "collapsed": false
   },
   "outputs": [],
   "source": [
    "year = '2016'\n",
    "filename = 'http://dods.ndbc.noaa.gov/thredds/dodsC/data/stdmet/46236/46236h'+ year + '.nc'\n",
    "data = nc.Dataset(filename) # Downloaded netcdf from dods thredds server"
   ]
  },
  {
   "cell_type": "code",
   "execution_count": 3,
   "metadata": {
    "collapsed": false
   },
   "outputs": [
    {
     "name": "stdout",
     "output_type": "stream",
     "text": [
      "institution\n",
      "url\n",
      "quality\n",
      "conventions\n",
      "station\n",
      "comment\n",
      "location\n",
      "DODS_EXTRA.Unlimited_Dimension\n"
     ]
    }
   ],
   "source": [
    "#Print the metadata stored as attributes\n",
    " #Lists the attributes attributed to the netcdf dataset\n",
    "for atr in data.ncattrs():\n",
    "    print atr\n",
    "# These attributes can be called, ex data.station returns a string '46236', the bouy id\n"
   ]
  },
  {
   "cell_type": "code",
   "execution_count": 4,
   "metadata": {
    "collapsed": false
   },
   "outputs": [
    {
     "name": "stdout",
     "output_type": "stream",
     "text": [
      "Masked!\n",
      "This is the long name: Significant Wave Height\n",
      "These are the number of dimensions:  3\n",
      "<type 'numpy.ndarray'>\n"
     ]
    }
   ],
   "source": [
    "variableList = data.variables # returns a dict of variable instances\n",
    "variableList.keys() # Returns the list of keys for the dict\n",
    "\n",
    "# These are netcdf4.varibles objects, we want to just get the data that they store and ignore\n",
    "# the metadata for now\n",
    "time = variableList.get('time') # This is the proper way to get the value for a key\n",
    "wave_h = variableList.get('wave_height') # Create a varible storing the netcdf.values for wave height\n",
    "\n",
    "# Ignore this for now\n",
    "if wave_h.mask:# Check to see if data is masked. If not, flatten\n",
    "    print 'Masked!'\n",
    "\n",
    "    \n",
    "print \"This is the long name:\", wave_h.long_name\n",
    "print \"These are the number of dimensions: \", wave_h.ndim\n",
    "wave_h_data = wave_h[:].flatten() # flattening will force all arrays into a single array of 1 dimension\n",
    "time_data = time[:] # Much simpler than using a for loop and maintains the np.array type\n",
    "print type(time_data) #np.arrays are very useful and should be used for data that is all the same type\n"
   ]
  },
  {
   "cell_type": "code",
   "execution_count": null,
   "metadata": {
    "collapsed": true
   },
   "outputs": [],
   "source": [
    "wave_h\n"
   ]
  },
  {
   "cell_type": "markdown",
   "metadata": {},
   "source": [
    "#### Convert from Epoch time to datetime object\n",
    "- docs for datatime time objects: https://docs.python.org/2/library/datetime.html\n",
    "- Matplotlib knows how to handle datetime objects, makes plotting very easy\n",
    "\n",
    "### Two ways to convert the data:\n",
    "#### For loops to append : This is slower, but for me, more intuitive when starting out"
   ]
  },
  {
   "cell_type": "code",
   "execution_count": 6,
   "metadata": {
    "collapsed": false
   },
   "outputs": [
    {
     "name": "stdout",
     "output_type": "stream",
     "text": [
      "seconds since 1970-01-01 00:00:00 UTC\n"
     ]
    }
   ],
   "source": [
    "timestamp = [] # initiazlize an empty list\n",
    "# Convert from Epoch time to datetime object\n",
    "print time.units # This is a standard epoch timestamp.\n",
    "for tdata in time_data:\n",
    "    timestamp.append(dt.datetime.fromtimestamp(tdata))"
   ]
  },
  {
   "cell_type": "markdown",
   "metadata": {},
   "source": [
    "#### Or better yet, use the properties of an np array\n",
    "This is a more advanced, but powere feature that will create a list. Map works by taking a  function, in this case dt.datetime.fromtimestamp and an array or list. It will apply that function to each item in the list or array and return them all as a list. <br>\n",
    "You can kind of think of this like doing a for loop and returing a single list, all in one line.<br>\n",
    "#### The second option is to make a vectorized version of the function\n",
    "This basically allows the function to accept an np array as the input, again advanced stuff, but useful when it clicks.<br>\n"
   ]
  },
  {
   "cell_type": "code",
   "execution_count": 7,
   "metadata": {
    "collapsed": false
   },
   "outputs": [],
   "source": [
    "# This is a more advanced, but powere feature that will create a list.\n",
    "# map works by taking a function, in this \n",
    "timestamp = map(dt.datetime.fromtimestamp, time_data) #This is \n",
    "# This is more\n",
    "dt_vect = np.vectorize(dt.datetime.fromtimestamp)\n",
    "timestamp_np = dt_vect(time_data)"
   ]
  },
  {
   "cell_type": "markdown",
   "metadata": {},
   "source": [
    "### Plotting the Data\n",
    "Matplotlib.pyplot is generally abbrivated as plt <br>"
   ]
  },
  {
   "cell_type": "code",
   "execution_count": 8,
   "metadata": {
    "collapsed": false
   },
   "outputs": [
    {
     "data": {
      "image/png": "[encoded data removed]",
      "text/plain": [
       "<matplotlib.figure.Figure at 0x10e7029d0>"
      ]
     },
     "metadata": {},
     "output_type": "display_data"
    }
   ],
   "source": [
    "# I usually use plt.subplots() to make the fig and the axes handlers, even when only makinga a single plot\n",
    "fig, ax1 = plt.subplots(1,1) \n",
    "#fig is the figure handler, this is how you manipulate the area that the plot lives in\n",
    "# more on this in a bit. \n",
    "# ax1 is the axis handler, this is how you manipulate the actual plot\n",
    "\n",
    "# You have just created an figure that has one axis, ax1. Ax1 is still blank, because we havent sent it\n",
    "# any data."
   ]
  },
  {
   "cell_type": "code",
   "execution_count": 9,
   "metadata": {
    "collapsed": false
   },
   "outputs": [
    {
     "data": {
      "image/png": "[encoded data removed]",
      "text/plain": [
       "<matplotlib.figure.Figure at 0x10e75d410>"
      ]
     },
     "metadata": {},
     "output_type": "display_data"
    }
   ],
   "source": [
    "fig, ax1 = plt.subplots(1,1) \n",
    "ax1.plot(timestamp_np,wave_h_data) # this creates a plot in the ax1 object handler\n",
    "# Major tick locator\n",
    "days_major = mdates.DayLocator(interval=5) #Will create an object that tracks the days of the month\n",
    "# interval=5 will track every 5th day of the month\n",
    "# Minor tick locator\n",
    "days_minor = mdates.DayLocator(interval=1) # same as above, but keeps track of each day of the month\n",
    "\n",
    "# Format Dates\n",
    "ax1.xaxis.set_major_locator(days_major) #Set the locations of the majors ticks, we sent it the locator\n",
    "ax1.xaxis.set_minor_locator(days_minor) # Sets the location of the minor ticks\n",
    "ax1.xaxis.set_major_formatter(mdates.DateFormatter('%m/%d')) # This set how the dates on the major axis are displayed"
   ]
  },
  {
   "cell_type": "markdown",
   "metadata": {
    "collapsed": true
   },
   "source": [
    "Matplotlib.pyplot also has some built in styles that are easy to use"
   ]
  },
  {
   "cell_type": "code",
   "execution_count": 20,
   "metadata": {
    "collapsed": false
   },
   "outputs": [
    {
     "name": "stdout",
     "output_type": "stream",
     "text": [
      "These are availible styles\n",
      "--------------------\n",
      "seaborn-darkgrid\n",
      "seaborn-notebook\n",
      "classic\n",
      "seaborn-ticks\n",
      "grayscale\n",
      "bmh\n",
      "seaborn-talk\n",
      "dark_background\n",
      "ggplot\n",
      "fivethirtyeight\n",
      "seaborn-colorblind\n",
      "seaborn-deep\n",
      "seaborn-whitegrid\n",
      "seaborn-bright\n",
      "seaborn-poster\n",
      "seaborn-muted\n",
      "seaborn-paper\n",
      "seaborn-white\n",
      "seaborn-pastel\n",
      "seaborn-dark\n",
      "seaborn-dark-palette\n"
     ]
    },
    {
     "data": {
      "image/png": "[encoded data removed]",
      "text/plain": [
       "<matplotlib.figure.Figure at 0x111fa9e90>"
      ]
     },
     "metadata": {},
     "output_type": "display_data"
    }
   ],
   "source": [
    "print 'These are availible styles'\n",
    "print '-'*20 # This will print 20 dashes\n",
    "\n",
    "for style in plt.style.available:\n",
    "    print style\n",
    "\n",
    "# just replace 'ggplot' with another style from the list \n",
    "with plt.style.context(('ggplot')):\n",
    "    fig, ax1 = plt.subplots(1,1) \n",
    "    ax1.plot(timestamp_np,wave_h_data) # this creates a plot in the ax1 object handler\n",
    "    # Major tick locator\n",
    "    days_major = mdates.DayLocator(interval=5) #Will create an object that tracks the days of the month\n",
    "    # interval=5 will track every 5th day of the month\n",
    "    # Minor tick locator\n",
    "    days_minor = mdates.DayLocator(interval=1) # same as above, but keeps track of each day of the month\n",
    "    \n",
    "    #Labeling\n",
    "    #set the title\n",
    "    ax1.set_title('Wave Height at ' + data.station)\n",
    "    # set the xaxis label\n",
    "    ax1.set_xlabel(2016)\n",
    "    #set the yaxis label\n",
    "    ax1.set_ylabel(\"Sig Wave Height\\n (m/s)\") # the \\n tells python to add a line break\n",
    "    \n",
    "    # Format Dates\n",
    "    ax1.xaxis.set_major_locator(days_major) #Set the locations of the majors ticks, we sent it the locator\n",
    "    ax1.xaxis.set_minor_locator(days_minor) # Sets the location of the minor ticks\n",
    "    ax1.xaxis.set_major_formatter(mdates.DateFormatter('%m/%d')) # This set how the dates on the major axis are displayed"
   ]
  },
  {
   "cell_type": "code",
   "execution_count": null,
   "metadata": {
    "collapsed": true
   },
   "outputs": [],
   "source": []
  },
  {
   "cell_type": "code",
   "execution_count": null,
   "metadata": {
    "collapsed": true
   },
   "outputs": [],
   "source": []
  }
 ],
 "metadata": {
  "kernelspec": {
   "display_name": "Python 2",
   "language": "python",
   "name": "python2"
  },
  "language_info": {
   "codemirror_mode": {
    "name": "ipython",
    "version": 2
   },
   "file_extension": ".py",
   "mimetype": "text/x-python",
   "name": "python",
   "nbconvert_exporter": "python",
   "pygments_lexer": "ipython2",
   "version": "2.7.11"
  }
 },
 "nbformat": 4,
 "nbformat_minor": 0
}
